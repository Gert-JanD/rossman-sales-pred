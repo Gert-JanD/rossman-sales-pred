{
 "cells": [
  {
   "cell_type": "markdown",
   "metadata": {},
   "source": [
    "# Predicting sales for Rossman stores: pipeline\n",
    "\n",
    "In this notebook we'll present the devopment of our model."
   ]
  },
  {
   "cell_type": "code",
   "execution_count": 23,
   "metadata": {},
   "outputs": [],
   "source": [
    "# importing user defined functions\n",
    "from data_cleaning_rossman import clean_rossman\n",
    "from feature_eng import feat_eng\n",
    "from models import split_rossmann_feat, \n",
    "from utils import metric, plot_stores_sales, train_xgboost, predict_xgboost\n",
    "\n",
    "# importing libraries\n",
    "import warnings"
   ]
  },
  {
   "cell_type": "code",
   "execution_count": 24,
   "metadata": {},
   "outputs": [],
   "source": [
    "# ignore future warning  when using TargetEnconder()\n",
    "warnings.filterwarnings(\"ignore\", category=FutureWarning)"
   ]
  },
  {
   "cell_type": "markdown",
   "metadata": {},
   "source": [
    "# Data cleaning\n",
    "\n",
    "The function `clean_rossman()` performs some inital cleaning tasks on the data.\n",
    "It takes as input a timeseries csv file, a csv with store info and the directory where the\n",
    "two csv files can be found.\n",
    "The function will read the csv files as a pandas Dataframe. First the two Dataframes will be merged on the Store column, with a left join to not lose any data.\n",
    "The cleaning functions performed are:\n",
    "* Replace missing values for Customers data with the median of the column\n",
    "* Drop all rows without a store id or a sales value as we don't have any info in that case\n",
    "* Drop the Open Column since we assume the store is open on days when there are sales\n",
    "* Fill in the missing values of the DayOfWeek column based on the Date\n",
    "* Drop the rows with missing values from the Promo column\n",
    "* Replace all the missing values from StateHoliday and Schoolholiday with the most frequent value of the column\n",
    "* Replace all the missing values from the CompetitionDistance column with the most frequent distance for that store\n",
    "* Change the missing values in the PromoInterval to a 'No Promo' string to be able to use them in the feature engineering\n",
    "* If we are cleaning the train Dataframe, the second percentile outliers get removed from the Sales and Customers columns"
   ]
  },
  {
   "cell_type": "code",
   "execution_count": 25,
   "metadata": {},
   "outputs": [],
   "source": [
    "# clean the data\n",
    "train_cleaned = clean_rossman(csv_tseries='train.csv', csv_store='store.csv', data_folder='data')"
   ]
  },
  {
   "cell_type": "code",
   "execution_count": 26,
   "metadata": {},
   "outputs": [],
   "source": [
    "# clean the data\n",
    "holdout_cleaned = clean_rossman(csv_tseries='holdout.csv', csv_store='store.csv', data_folder='data')"
   ]
  },
  {
   "cell_type": "markdown",
   "metadata": {},
   "source": [
    "# Feature engineering\n",
    "\n",
    "The user function `feat_eng()` performs some engineering tasks having as input a pandas dataframe. The main tasks performed by this function are:\n",
    "* Create new features (year, day of the month and week of the year) from the `Date` column and\n",
    "     when change type when necessary\n",
    "* Create a new feature dividing the Sales per Customer per Store\n",
    "* Apply one-hot and target enconding to some categorical features\n",
    "* Drop some features\n",
    "The user can choose to work with the train or the test file through the parameter train_data."
   ]
  },
  {
   "cell_type": "code",
   "execution_count": 27,
   "metadata": {},
   "outputs": [],
   "source": [
    "# engineering features\n",
    "train_eng, te_store, te_week, te_day = feat_eng(train_cleaned, train_data=True, te_store=None, te_week=None, te_day=None)"
   ]
  },
  {
   "cell_type": "code",
   "execution_count": 28,
   "metadata": {},
   "outputs": [],
   "source": [
    "# engineering features\n",
    "holdout_eng, te_store, te_week, te_day = feat_eng(holdout_cleaned, train_data=False, te_store=te_store, te_week=te_week, te_day=te_day)"
   ]
  },
  {
   "cell_type": "code",
   "execution_count": 29,
   "metadata": {},
   "outputs": [
    {
     "data": {
      "text/html": [
       "<div>\n",
       "<style scoped>\n",
       "    .dataframe tbody tr th:only-of-type {\n",
       "        vertical-align: middle;\n",
       "    }\n",
       "\n",
       "    .dataframe tbody tr th {\n",
       "        vertical-align: top;\n",
       "    }\n",
       "\n",
       "    .dataframe thead th {\n",
       "        text-align: right;\n",
       "    }\n",
       "</style>\n",
       "<table border=\"1\" class=\"dataframe\">\n",
       "  <thead>\n",
       "    <tr style=\"text-align: right;\">\n",
       "      <th></th>\n",
       "      <th>Sales</th>\n",
       "      <th>Promo</th>\n",
       "      <th>CompetitionDistance</th>\n",
       "      <th>Promo2</th>\n",
       "      <th>StateHoliday_0</th>\n",
       "      <th>StateHoliday_a</th>\n",
       "      <th>StateHoliday_b</th>\n",
       "      <th>StateHoliday_c</th>\n",
       "      <th>SchoolHoliday_0</th>\n",
       "      <th>SchoolHoliday_1</th>\n",
       "      <th>...</th>\n",
       "      <th>DayOfWeek_1</th>\n",
       "      <th>DayOfWeek_2</th>\n",
       "      <th>DayOfWeek_3</th>\n",
       "      <th>DayOfWeek_4</th>\n",
       "      <th>DayOfWeek_5</th>\n",
       "      <th>DayOfWeek_6</th>\n",
       "      <th>DayOfWeek_7</th>\n",
       "      <th>Store_target</th>\n",
       "      <th>WeekofYear_target</th>\n",
       "      <th>Day_target</th>\n",
       "    </tr>\n",
       "  </thead>\n",
       "  <tbody>\n",
       "    <tr>\n",
       "      <th>27</th>\n",
       "      <td>3139</td>\n",
       "      <td>0</td>\n",
       "      <td>900</td>\n",
       "      <td>1</td>\n",
       "      <td>0</td>\n",
       "      <td>1</td>\n",
       "      <td>0</td>\n",
       "      <td>0</td>\n",
       "      <td>0</td>\n",
       "      <td>1</td>\n",
       "      <td>...</td>\n",
       "      <td>0</td>\n",
       "      <td>1</td>\n",
       "      <td>0</td>\n",
       "      <td>0</td>\n",
       "      <td>0</td>\n",
       "      <td>0</td>\n",
       "      <td>0</td>\n",
       "      <td>5104.747082</td>\n",
       "      <td>5852.078279</td>\n",
       "      <td>6798.600823</td>\n",
       "    </tr>\n",
       "    <tr>\n",
       "      <th>115</th>\n",
       "      <td>2401</td>\n",
       "      <td>0</td>\n",
       "      <td>90</td>\n",
       "      <td>1</td>\n",
       "      <td>0</td>\n",
       "      <td>1</td>\n",
       "      <td>0</td>\n",
       "      <td>0</td>\n",
       "      <td>0</td>\n",
       "      <td>1</td>\n",
       "      <td>...</td>\n",
       "      <td>0</td>\n",
       "      <td>1</td>\n",
       "      <td>0</td>\n",
       "      <td>0</td>\n",
       "      <td>0</td>\n",
       "      <td>0</td>\n",
       "      <td>0</td>\n",
       "      <td>8061.232558</td>\n",
       "      <td>5852.078279</td>\n",
       "      <td>6798.600823</td>\n",
       "    </tr>\n",
       "    <tr>\n",
       "      <th>147</th>\n",
       "      <td>2646</td>\n",
       "      <td>0</td>\n",
       "      <td>590</td>\n",
       "      <td>1</td>\n",
       "      <td>0</td>\n",
       "      <td>1</td>\n",
       "      <td>0</td>\n",
       "      <td>0</td>\n",
       "      <td>0</td>\n",
       "      <td>1</td>\n",
       "      <td>...</td>\n",
       "      <td>0</td>\n",
       "      <td>1</td>\n",
       "      <td>0</td>\n",
       "      <td>0</td>\n",
       "      <td>0</td>\n",
       "      <td>0</td>\n",
       "      <td>0</td>\n",
       "      <td>5161.451883</td>\n",
       "      <td>5852.078279</td>\n",
       "      <td>6798.600823</td>\n",
       "    </tr>\n",
       "  </tbody>\n",
       "</table>\n",
       "<p>3 rows × 31 columns</p>\n",
       "</div>"
      ],
      "text/plain": [
       "     Sales  Promo  CompetitionDistance  Promo2  StateHoliday_0  \\\n",
       "27    3139      0                  900       1               0   \n",
       "115   2401      0                   90       1               0   \n",
       "147   2646      0                  590       1               0   \n",
       "\n",
       "     StateHoliday_a  StateHoliday_b  StateHoliday_c  SchoolHoliday_0  \\\n",
       "27                1               0               0                0   \n",
       "115               1               0               0                0   \n",
       "147               1               0               0                0   \n",
       "\n",
       "     SchoolHoliday_1  ...  DayOfWeek_1  DayOfWeek_2  DayOfWeek_3  DayOfWeek_4  \\\n",
       "27                 1  ...            0            1            0            0   \n",
       "115                1  ...            0            1            0            0   \n",
       "147                1  ...            0            1            0            0   \n",
       "\n",
       "     DayOfWeek_5  DayOfWeek_6  DayOfWeek_7  Store_target  WeekofYear_target  \\\n",
       "27             0            0            0   5104.747082        5852.078279   \n",
       "115            0            0            0   8061.232558        5852.078279   \n",
       "147            0            0            0   5161.451883        5852.078279   \n",
       "\n",
       "      Day_target  \n",
       "27   6798.600823  \n",
       "115  6798.600823  \n",
       "147  6798.600823  \n",
       "\n",
       "[3 rows x 31 columns]"
      ]
     },
     "execution_count": 29,
     "metadata": {},
     "output_type": "execute_result"
    }
   ],
   "source": [
    "train_eng.head(3)"
   ]
  },
  {
   "cell_type": "code",
   "execution_count": 30,
   "metadata": {},
   "outputs": [
    {
     "data": {
      "text/html": [
       "<div>\n",
       "<style scoped>\n",
       "    .dataframe tbody tr th:only-of-type {\n",
       "        vertical-align: middle;\n",
       "    }\n",
       "\n",
       "    .dataframe tbody tr th {\n",
       "        vertical-align: top;\n",
       "    }\n",
       "\n",
       "    .dataframe thead th {\n",
       "        text-align: right;\n",
       "    }\n",
       "</style>\n",
       "<table border=\"1\" class=\"dataframe\">\n",
       "  <thead>\n",
       "    <tr style=\"text-align: right;\">\n",
       "      <th></th>\n",
       "      <th>Sales</th>\n",
       "      <th>Promo</th>\n",
       "      <th>CompetitionDistance</th>\n",
       "      <th>Promo2</th>\n",
       "      <th>StateHoliday_0</th>\n",
       "      <th>StateHoliday_a</th>\n",
       "      <th>StateHoliday_b</th>\n",
       "      <th>StateHoliday_c</th>\n",
       "      <th>SchoolHoliday_0</th>\n",
       "      <th>SchoolHoliday_1</th>\n",
       "      <th>...</th>\n",
       "      <th>DayOfWeek_1</th>\n",
       "      <th>DayOfWeek_2</th>\n",
       "      <th>DayOfWeek_3</th>\n",
       "      <th>DayOfWeek_4</th>\n",
       "      <th>DayOfWeek_5</th>\n",
       "      <th>DayOfWeek_6</th>\n",
       "      <th>DayOfWeek_7</th>\n",
       "      <th>Store_target</th>\n",
       "      <th>WeekofYear_target</th>\n",
       "      <th>Day_target</th>\n",
       "    </tr>\n",
       "  </thead>\n",
       "  <tbody>\n",
       "    <tr>\n",
       "      <th>0</th>\n",
       "      <td>7195</td>\n",
       "      <td>1</td>\n",
       "      <td>1970</td>\n",
       "      <td>1</td>\n",
       "      <td>1</td>\n",
       "      <td>0</td>\n",
       "      <td>0</td>\n",
       "      <td>0</td>\n",
       "      <td>0</td>\n",
       "      <td>1</td>\n",
       "      <td>...</td>\n",
       "      <td>0</td>\n",
       "      <td>0</td>\n",
       "      <td>0</td>\n",
       "      <td>0</td>\n",
       "      <td>1</td>\n",
       "      <td>0</td>\n",
       "      <td>0</td>\n",
       "      <td>6843.828979</td>\n",
       "      <td>7760.831193</td>\n",
       "      <td>6798.600823</td>\n",
       "    </tr>\n",
       "    <tr>\n",
       "      <th>1</th>\n",
       "      <td>9525</td>\n",
       "      <td>1</td>\n",
       "      <td>4880</td>\n",
       "      <td>1</td>\n",
       "      <td>1</td>\n",
       "      <td>0</td>\n",
       "      <td>0</td>\n",
       "      <td>0</td>\n",
       "      <td>0</td>\n",
       "      <td>1</td>\n",
       "      <td>...</td>\n",
       "      <td>0</td>\n",
       "      <td>0</td>\n",
       "      <td>0</td>\n",
       "      <td>0</td>\n",
       "      <td>1</td>\n",
       "      <td>0</td>\n",
       "      <td>0</td>\n",
       "      <td>8365.822581</td>\n",
       "      <td>7760.831193</td>\n",
       "      <td>6798.600823</td>\n",
       "    </tr>\n",
       "    <tr>\n",
       "      <th>2</th>\n",
       "      <td>5621</td>\n",
       "      <td>1</td>\n",
       "      <td>11120</td>\n",
       "      <td>1</td>\n",
       "      <td>1</td>\n",
       "      <td>0</td>\n",
       "      <td>0</td>\n",
       "      <td>0</td>\n",
       "      <td>0</td>\n",
       "      <td>1</td>\n",
       "      <td>...</td>\n",
       "      <td>0</td>\n",
       "      <td>0</td>\n",
       "      <td>0</td>\n",
       "      <td>0</td>\n",
       "      <td>1</td>\n",
       "      <td>0</td>\n",
       "      <td>0</td>\n",
       "      <td>4349.109840</td>\n",
       "      <td>7760.831193</td>\n",
       "      <td>6798.600823</td>\n",
       "    </tr>\n",
       "  </tbody>\n",
       "</table>\n",
       "<p>3 rows × 31 columns</p>\n",
       "</div>"
      ],
      "text/plain": [
       "   Sales  Promo  CompetitionDistance  Promo2  StateHoliday_0  StateHoliday_a  \\\n",
       "0   7195      1                 1970       1               1               0   \n",
       "1   9525      1                 4880       1               1               0   \n",
       "2   5621      1                11120       1               1               0   \n",
       "\n",
       "   StateHoliday_b  StateHoliday_c  SchoolHoliday_0  SchoolHoliday_1  ...  \\\n",
       "0               0               0                0                1  ...   \n",
       "1               0               0                0                1  ...   \n",
       "2               0               0                0                1  ...   \n",
       "\n",
       "   DayOfWeek_1  DayOfWeek_2  DayOfWeek_3  DayOfWeek_4  DayOfWeek_5  \\\n",
       "0            0            0            0            0            1   \n",
       "1            0            0            0            0            1   \n",
       "2            0            0            0            0            1   \n",
       "\n",
       "   DayOfWeek_6  DayOfWeek_7  Store_target  WeekofYear_target   Day_target  \n",
       "0            0            0   6843.828979        7760.831193  6798.600823  \n",
       "1            0            0   8365.822581        7760.831193  6798.600823  \n",
       "2            0            0   4349.109840        7760.831193  6798.600823  \n",
       "\n",
       "[3 rows x 31 columns]"
      ]
     },
     "execution_count": 30,
     "metadata": {},
     "output_type": "execute_result"
    }
   ],
   "source": [
    "holdout_eng.head(3)"
   ]
  },
  {
   "cell_type": "markdown",
   "metadata": {},
   "source": [
    "# Modeling"
   ]
  },
  {
   "cell_type": "code",
   "execution_count": 63,
   "metadata": {},
   "outputs": [],
   "source": [
    "import numpy as np\n",
    "from sklearn.model_selection import train_test_split\n",
    "from sklearn.tree import DecisionTreeRegressor\n",
    "from xgboost import XGBRegressor\n",
    "from xgboost import plot_importance\n",
    "from sklearn.ensemble import RandomForestRegressor"
   ]
  },
  {
   "cell_type": "code",
   "execution_count": 46,
   "metadata": {},
   "outputs": [],
   "source": [
    "# separating features and target variable from train.csv\n",
    "\n",
    "# matrix of features, X\n",
    "X_train = train_eng.drop('Sales', axis=1)  \n",
    "# target variable vector, y\n",
    "y_train = train_eng['Sales']               \n",
    "\n",
    "# matrix of features, X\n",
    "X_test = holdout_eng.drop('Sales', axis=1)  \n",
    "# target variable vector, y\n",
    "y_test = holdout_eng['Sales']               "
   ]
  },
  {
   "cell_type": "markdown",
   "metadata": {},
   "source": [
    "# Decision tree"
   ]
  },
  {
   "cell_type": "code",
   "execution_count": 47,
   "metadata": {},
   "outputs": [
    {
     "data": {
      "text/plain": [
       "DecisionTreeRegressor()"
      ]
     },
     "execution_count": 47,
     "metadata": {},
     "output_type": "execute_result"
    }
   ],
   "source": [
    "# build the decision tree using default settings\n",
    "dt_model = DecisionTreeRegressor()\n",
    "dt_model.fit(X_train, y_train)"
   ]
  },
  {
   "cell_type": "code",
   "execution_count": 52,
   "metadata": {},
   "outputs": [],
   "source": [
    "y_pred = dt_model.predict(X_test)"
   ]
  },
  {
   "cell_type": "code",
   "execution_count": 53,
   "metadata": {},
   "outputs": [
    {
     "data": {
      "text/plain": [
       "29.088800863266727"
      ]
     },
     "execution_count": 53,
     "metadata": {},
     "output_type": "execute_result"
    }
   ],
   "source": [
    "metric(np.array(y_pred), np.array(y_test))"
   ]
  },
  {
   "cell_type": "markdown",
   "metadata": {},
   "source": [
    "# XGBoost"
   ]
  },
  {
   "cell_type": "code",
   "execution_count": 56,
   "metadata": {},
   "outputs": [],
   "source": [
    "xgb_base = XGBRegressor(random_state=42)\n",
    "\n",
    "xgb_base.fit(X_train,y_train)\n",
    "pred = xgb_base.predict(X_test)"
   ]
  },
  {
   "cell_type": "code",
   "execution_count": 58,
   "metadata": {},
   "outputs": [
    {
     "data": {
      "text/plain": [
       "23.923788580096033"
      ]
     },
     "execution_count": 58,
     "metadata": {},
     "output_type": "execute_result"
    }
   ],
   "source": [
    "metric(np.array(pred), np.array(y_test))"
   ]
  },
  {
   "cell_type": "code",
   "execution_count": 59,
   "metadata": {},
   "outputs": [],
   "source": [
    "X_train = X_train.drop(['StateHoliday_a', \n",
    "                        'StateHoliday_b', \n",
    "                        'StateHoliday_c', \n",
    "                        'PromoInterval_No Promo', \n",
    "                        'SchoolHoliday_1'], \n",
    "                       axis=1)\n",
    "\n",
    "X_test = X_test.drop(['StateHoliday_a', \n",
    "                        'StateHoliday_b', \n",
    "                        'StateHoliday_c', \n",
    "                        'PromoInterval_No Promo', \n",
    "                        'SchoolHoliday_1'], \n",
    "                       axis=1)"
   ]
  },
  {
   "cell_type": "code",
   "execution_count": 60,
   "metadata": {},
   "outputs": [],
   "source": [
    "xgb_sel = XGBRegressor(random_state=42)\n",
    "\n",
    "xgb_sel.fit(X_train, y_train)\n",
    "pred = xgb_sel.predict(X_test)"
   ]
  },
  {
   "cell_type": "code",
   "execution_count": 61,
   "metadata": {},
   "outputs": [
    {
     "data": {
      "text/plain": [
       "24.205623429260886"
      ]
     },
     "execution_count": 61,
     "metadata": {},
     "output_type": "execute_result"
    }
   ],
   "source": [
    "metric(np.array(pred), np.array(y_test))"
   ]
  },
  {
   "cell_type": "markdown",
   "metadata": {},
   "source": [
    "# Random Forest"
   ]
  },
  {
   "cell_type": "code",
   "execution_count": 64,
   "metadata": {},
   "outputs": [
    {
     "data": {
      "text/plain": [
       "RandomForestRegressor()"
      ]
     },
     "execution_count": 64,
     "metadata": {},
     "output_type": "execute_result"
    }
   ],
   "source": [
    "rf = RandomForestRegressor()\n",
    "rf.fit(X_train, y_train)"
   ]
  },
  {
   "cell_type": "code",
   "execution_count": 66,
   "metadata": {},
   "outputs": [],
   "source": [
    "# prediction\n",
    "y_pred = rf.predict(X_test)"
   ]
  },
  {
   "cell_type": "code",
   "execution_count": 67,
   "metadata": {},
   "outputs": [
    {
     "data": {
      "text/plain": [
       "25.596893670443926"
      ]
     },
     "execution_count": 67,
     "metadata": {},
     "output_type": "execute_result"
    }
   ],
   "source": [
    "metric(np.array(y_pred), np.array(y_test))"
   ]
  },
  {
   "cell_type": "markdown",
   "metadata": {},
   "source": [
    "# XGBoost Regressor tuned"
   ]
  },
  {
   "cell_type": "code",
   "execution_count": null,
   "metadata": {},
   "outputs": [],
   "source": [
    "    rossman_cleaned = clean_rossman(csv_tseries='train.csv', csv_store='store.csv', data_folder='data')\n",
    "    rossman_featured, te_store, te_week, te_day = feat_eng(rossman_cleaned)\n",
    "\n",
    "    X_train, X_val, y_train, y_val = split_rossmann_feat(rossman_featured)\n",
    "\n",
    "    xgb_file_name = \"xgb_reg.pkl\"\n",
    "    # score_val = train_xgboost(X_train, X_val, y_train, y_val, xgb_file_name)\n",
    "    # print(f\"XGBRegressor score val (error) = {score_val:.1f}%\")\n",
    "\n",
    "    rossman_cleaned_test = clean_rossman(csv_tseries='holdout.csv', csv_store='store.csv', data_folder='data')\n",
    "    rossman_featured_test, te_store, te_week, te_day = feat_eng(rossman_cleaned_test, train_data=False, te_store=te_store, te_week=te_week, te_day=te_day)\n",
    "\n",
    "    X_test = rossman_featured_test.drop(\"Sales\", axis=1)\n",
    "    y_test = rossman_featured_test.loc[:, \"Sales\"]\n",
    "\n",
    "    score_pred = predict_xgboost(X_test, y_test, xgb_file_name)\n",
    "    print(f\"XGBRegressor score holdout (error) = {score_pred:.1f}%\")\n"
   ]
  }
 ],
 "metadata": {
  "kernelspec": {
   "display_name": "Python 3",
   "language": "python",
   "name": "python3"
  },
  "language_info": {
   "codemirror_mode": {
    "name": "ipython",
    "version": 3
   },
   "file_extension": ".py",
   "mimetype": "text/x-python",
   "name": "python",
   "nbconvert_exporter": "python",
   "pygments_lexer": "ipython3",
   "version": "3.8.5"
  }
 },
 "nbformat": 4,
 "nbformat_minor": 5
}
